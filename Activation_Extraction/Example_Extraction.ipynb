{
 "cells": [
  {
   "cell_type": "markdown",
   "id": "c0e1088e",
   "metadata": {},
   "source": [
    "# Example usage:\n",
    "\n",
    "- Choose an image and specify the neuron index\n",
    "- Choose whether to display the image"
   ]
  },
  {
   "cell_type": "code",
   "execution_count": null,
   "id": "4c964a05",
   "metadata": {},
   "outputs": [],
   "source": [
    "import os \n",
    "from activation_extractor import get_clip_neuron_activation_tf\n",
    "\n",
    "# data path:\n",
    "data_path = \"../Data/Image_Data/clean_images/\""
   ]
  },
  {
   "cell_type": "code",
   "execution_count": null,
   "id": "46a9ef2f",
   "metadata": {},
   "outputs": [],
   "source": [
    "neuron_idx = 297\n",
    "image_name = \"fire_clean_14.jpg\"\n",
    "image_path = os.path.join(data_path, image_name)\n",
    "\n",
    "get_clip_neuron_activation_tf(image_path, neuron_idx, show_image=True)"
   ]
  }
 ],
 "metadata": {
  "kernelspec": {
   "display_name": "iclr_2",
   "language": "python",
   "name": "python3"
  },
  "language_info": {
   "codemirror_mode": {
    "name": "ipython",
    "version": 3
   },
   "file_extension": ".py",
   "mimetype": "text/x-python",
   "name": "python",
   "nbconvert_exporter": "python",
   "pygments_lexer": "ipython3",
   "version": "3.10.18"
  }
 },
 "nbformat": 4,
 "nbformat_minor": 5
}
